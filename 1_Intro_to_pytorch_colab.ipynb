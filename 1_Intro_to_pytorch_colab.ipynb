{
  "nbformat": 4,
  "nbformat_minor": 0,
  "metadata": {
    "colab": {
      "provenance": [],
      "gpuType": "T4",
      "authorship_tag": "ABX9TyOIWKS7T2tMmFQy1S44wGpP",
      "include_colab_link": true
    },
    "kernelspec": {
      "name": "python3",
      "display_name": "Python 3"
    },
    "language_info": {
      "name": "python"
    },
    "accelerator": "GPU"
  },
  "cells": [
    {
      "cell_type": "markdown",
      "metadata": {
        "id": "view-in-github",
        "colab_type": "text"
      },
      "source": [
        "<a href=\"https://colab.research.google.com/github/henrykuang/EasyOCR/blob/master/1_Intro_to_pytorch_colab.ipynb\" target=\"_parent\"><img src=\"https://colab.research.google.com/assets/colab-badge.svg\" alt=\"Open In Colab\"/></a>"
      ]
    },
    {
      "cell_type": "code",
      "execution_count": null,
      "metadata": {
        "colab": {
          "base_uri": "https://localhost:8080/"
        },
        "id": "6ZRwtDyDyhAN",
        "outputId": "aa54a486-7e25-4ad6-f9e7-7c33309f2b1b"
      },
      "outputs": [
        {
          "output_type": "execute_result",
          "data": {
            "text/plain": [
              "4"
            ]
          },
          "metadata": {},
          "execution_count": 1
        }
      ],
      "source": [
        "2+2"
      ]
    },
    {
      "cell_type": "code",
      "source": [
        "import numpy as np"
      ],
      "metadata": {
        "id": "aOMgcdYwzXET"
      },
      "execution_count": null,
      "outputs": []
    },
    {
      "cell_type": "code",
      "source": [
        "import torch"
      ],
      "metadata": {
        "id": "n_H-I9TYzE-1"
      },
      "execution_count": null,
      "outputs": []
    },
    {
      "cell_type": "code",
      "source": [
        "!pip list"
      ],
      "metadata": {
        "id": "KVfvXd2a0Cd8"
      },
      "execution_count": null,
      "outputs": []
    },
    {
      "cell_type": "markdown",
      "source": [
        "List (Python)"
      ],
      "metadata": {
        "id": "ANkhVl8f-Zlc"
      }
    },
    {
      "cell_type": "code",
      "source": [
        "my_list = [[1,2,3,4,5],[7,2,10,0]]\n",
        "my_list,\n",
        "type(my_list)"
      ],
      "metadata": {
        "id": "TqFJZ0FT0FIS",
        "colab": {
          "base_uri": "https://localhost:8080/"
        },
        "outputId": "51007449-abb2-4072-da38-e98b6c65e801"
      },
      "execution_count": null,
      "outputs": [
        {
          "output_type": "execute_result",
          "data": {
            "text/plain": [
              "list"
            ]
          },
          "metadata": {},
          "execution_count": 9
        }
      ]
    },
    {
      "cell_type": "markdown",
      "source": [
        "NumPy Array"
      ],
      "metadata": {
        "id": "saQSxgeq_Ubq"
      }
    },
    {
      "cell_type": "code",
      "source": [
        "np1 = np.random.rand(3,4)\n",
        "np1"
      ],
      "metadata": {
        "colab": {
          "base_uri": "https://localhost:8080/"
        },
        "id": "bxnJVyLb-l2A",
        "outputId": "697a85d8-db65-4835-f455-3b3b5d29156d"
      },
      "execution_count": null,
      "outputs": [
        {
          "output_type": "execute_result",
          "data": {
            "text/plain": [
              "array([[0.3759014 , 0.06780447, 0.37190532, 0.83797123],\n",
              "       [0.65768897, 0.91016505, 0.51651568, 0.74422102],\n",
              "       [0.07945851, 0.63420627, 0.72946677, 0.90494161]])"
            ]
          },
          "metadata": {},
          "execution_count": 7
        }
      ]
    },
    {
      "cell_type": "code",
      "source": [
        "np1.dtype"
      ],
      "metadata": {
        "id": "a_X66K94_vEU",
        "colab": {
          "base_uri": "https://localhost:8080/"
        },
        "outputId": "7cfbf61d-8db7-4e94-d2f0-af92972229c8"
      },
      "execution_count": null,
      "outputs": [
        {
          "output_type": "execute_result",
          "data": {
            "text/plain": [
              "dtype('float64')"
            ]
          },
          "metadata": {},
          "execution_count": 8
        }
      ]
    },
    {
      "cell_type": "markdown",
      "source": [
        "Tensor"
      ],
      "metadata": {
        "id": "LO7YDQz4A0yd"
      }
    },
    {
      "cell_type": "code",
      "source": [
        "# [0,1]的均匀分布\n",
        "tensor_2d = torch.rand(2,4)\n",
        "tensor_2d"
      ],
      "metadata": {
        "id": "GYz3shWcA3FV",
        "colab": {
          "base_uri": "https://localhost:8080/"
        },
        "outputId": "22cd07d8-ac3e-4697-c945-ec5bf86c7316"
      },
      "execution_count": null,
      "outputs": [
        {
          "output_type": "execute_result",
          "data": {
            "text/plain": [
              "tensor([[0.4399, 0.4206, 0.1345, 0.5326],\n",
              "        [0.6137, 0.2319, 0.6000, 0.9827]])"
            ]
          },
          "metadata": {},
          "execution_count": 10
        }
      ]
    },
    {
      "cell_type": "code",
      "source": [
        "# 正态分布\n",
        "tensor_normal=torch.normal(mean=2.3,std=0.9,size=(3,5))\n",
        "print(tensor_normal)"
      ],
      "metadata": {
        "colab": {
          "base_uri": "https://localhost:8080/"
        },
        "id": "0d5MQR64yP6r",
        "outputId": "fd9bc493-b427-4b1d-f91f-e3bec5663a9a"
      },
      "execution_count": null,
      "outputs": [
        {
          "output_type": "stream",
          "name": "stdout",
          "text": [
            "tensor([[2.7588, 2.1449, 1.8984, 3.0575, 4.1802],\n",
            "        [2.0169, 2.6152, 2.7659, 1.1169, 1.0097],\n",
            "        [1.6087, 3.2070, 3.3209, 0.8044, 1.6013]])\n"
          ]
        }
      ]
    },
    {
      "cell_type": "code",
      "source": [
        "# 标准正态分布\n",
        "tensor_normal2 = torch.randn(size=(3,3))\n",
        "print(tensor_normal2)"
      ],
      "metadata": {
        "colab": {
          "base_uri": "https://localhost:8080/"
        },
        "id": "_sFxApQNy27B",
        "outputId": "3b348e02-9c7e-4710-d723-a4e890a63798"
      },
      "execution_count": null,
      "outputs": [
        {
          "output_type": "stream",
          "name": "stdout",
          "text": [
            "tensor([[-0.9345, -0.7490, -0.3738],\n",
            "        [-1.4563,  0.7164, -1.4700],\n",
            "        [ 0.4007,  0.7517, -1.0904]])\n"
          ]
        }
      ]
    },
    {
      "cell_type": "code",
      "source": [
        "tensor_3d = torch.zeros(2,3,4)\n",
        "tensor_3d"
      ],
      "metadata": {
        "id": "pns32SJnBCmE",
        "colab": {
          "base_uri": "https://localhost:8080/"
        },
        "outputId": "a774a694-afec-4150-8084-d2336eab085c"
      },
      "execution_count": null,
      "outputs": [
        {
          "output_type": "execute_result",
          "data": {
            "text/plain": [
              "tensor([[[0., 0., 0., 0.],\n",
              "         [0., 0., 0., 0.],\n",
              "         [0., 0., 0., 0.]],\n",
              "\n",
              "        [[0., 0., 0., 0.],\n",
              "         [0., 0., 0., 0.],\n",
              "         [0., 0., 0., 0.]]])"
            ]
          },
          "metadata": {},
          "execution_count": 11
        }
      ]
    },
    {
      "cell_type": "code",
      "source": [
        "# create tensor out of numpy array\n",
        "tensor_x = torch.tensor(np1)\n",
        "tensor_x"
      ],
      "metadata": {
        "colab": {
          "base_uri": "https://localhost:8080/"
        },
        "id": "tU0U0VTlBcoc",
        "outputId": "f43b6e0e-0508-41a0-a422-a58c88a13e38"
      },
      "execution_count": null,
      "outputs": [
        {
          "output_type": "execute_result",
          "data": {
            "text/plain": [
              "tensor([[0.3759, 0.0678, 0.3719, 0.8380],\n",
              "        [0.6577, 0.9102, 0.5165, 0.7442],\n",
              "        [0.0795, 0.6342, 0.7295, 0.9049]], dtype=torch.float64)"
            ]
          },
          "metadata": {},
          "execution_count": 12
        }
      ]
    },
    {
      "cell_type": "code",
      "source": [
        "# reshape tensor\n",
        "tensor_1 = torch.arange(10)\n",
        "tensor_1"
      ],
      "metadata": {
        "colab": {
          "base_uri": "https://localhost:8080/"
        },
        "id": "S6rAcw0KCDi8",
        "outputId": "31d17d79-498a-432e-aa8c-91a051c01d04"
      },
      "execution_count": null,
      "outputs": [
        {
          "output_type": "execute_result",
          "data": {
            "text/plain": [
              "tensor([0, 1, 2, 3, 4, 5, 6, 7, 8, 9])"
            ]
          },
          "metadata": {},
          "execution_count": 13
        }
      ]
    },
    {
      "cell_type": "code",
      "source": [
        "tensor_1 = tensor_1.reshape(2,5)\n",
        "tensor_1"
      ],
      "metadata": {
        "id": "VHisL4XtPFk-",
        "outputId": "3647454a-b7cb-4610-d073-877605900cdd",
        "colab": {
          "base_uri": "https://localhost:8080/"
        }
      },
      "execution_count": null,
      "outputs": [
        {
          "output_type": "execute_result",
          "data": {
            "text/plain": [
              "tensor([[0, 1, 2, 3, 4],\n",
              "        [5, 6, 7, 8, 9]])"
            ]
          },
          "metadata": {},
          "execution_count": 14
        }
      ]
    },
    {
      "cell_type": "code",
      "source": [
        "# reshape tensor without known the dimension using -1\n",
        "tensor_2 = torch.arange(10)\n",
        "tensor_2 = tensor_2.reshape(2,-1)\n",
        "tensor_2"
      ],
      "metadata": {
        "id": "Ftr0dg-7PapO",
        "outputId": "10f3da67-f9ff-4919-8bdd-54b46608d8e2",
        "colab": {
          "base_uri": "https://localhost:8080/"
        }
      },
      "execution_count": null,
      "outputs": [
        {
          "output_type": "execute_result",
          "data": {
            "text/plain": [
              "tensor([[0, 1, 2, 3, 4],\n",
              "        [5, 6, 7, 8, 9]])"
            ]
          },
          "metadata": {},
          "execution_count": 15
        }
      ]
    },
    {
      "cell_type": "code",
      "source": [
        "tensor_3 = torch.arange(10)\n",
        "tensor_4 = tensor_3.view(2,5)\n",
        "tensor_4"
      ],
      "metadata": {
        "id": "iN45fxwZTtQD",
        "outputId": "d77a8d2a-0176-4927-a017-1f5b5d454996",
        "colab": {
          "base_uri": "https://localhost:8080/"
        }
      },
      "execution_count": null,
      "outputs": [
        {
          "output_type": "execute_result",
          "data": {
            "text/plain": [
              "tensor([[0, 1, 2, 3, 4],\n",
              "        [5, 6, 7, 8, 9]])"
            ]
          },
          "metadata": {},
          "execution_count": 16
        }
      ]
    },
    {
      "cell_type": "code",
      "source": [
        "tensor_3[1] = 424\n",
        "tensor_3"
      ],
      "metadata": {
        "id": "uHmQfU8TU90s",
        "outputId": "3684abdb-0592-4b03-b79c-e05af11848df",
        "colab": {
          "base_uri": "https://localhost:8080/"
        }
      },
      "execution_count": null,
      "outputs": [
        {
          "output_type": "execute_result",
          "data": {
            "text/plain": [
              "tensor([  0, 424,   2,   3,   4,   5,   6,   7,   8,   9])"
            ]
          },
          "metadata": {},
          "execution_count": 17
        }
      ]
    },
    {
      "cell_type": "code",
      "source": [
        "tensor_4"
      ],
      "metadata": {
        "id": "9n4WOkpXWP2M",
        "outputId": "56a5cd85-60c8-4cfa-97f0-7113f231aed2",
        "colab": {
          "base_uri": "https://localhost:8080/"
        }
      },
      "execution_count": null,
      "outputs": [
        {
          "output_type": "execute_result",
          "data": {
            "text/plain": [
              "tensor([[  0, 424,   2,   3,   4],\n",
              "        [  5,   6,   7,   8,   9]])"
            ]
          },
          "metadata": {},
          "execution_count": 18
        }
      ]
    },
    {
      "cell_type": "code",
      "source": [
        "# Slice and dices\n",
        "tensor_3[7]"
      ],
      "metadata": {
        "id": "4E2GFnTrWRyc",
        "outputId": "4b312994-820e-47f6-bac5-8c0651c25992",
        "colab": {
          "base_uri": "https://localhost:8080/"
        }
      },
      "execution_count": null,
      "outputs": [
        {
          "output_type": "execute_result",
          "data": {
            "text/plain": [
              "tensor(7)"
            ]
          },
          "metadata": {},
          "execution_count": 19
        }
      ]
    },
    {
      "cell_type": "code",
      "source": [
        "tensor_8 = tensor_3.reshape(5,2)\n",
        "tensor_8"
      ],
      "metadata": {
        "id": "qU6xQtXcWvSD",
        "outputId": "1a84970f-7096-4282-9a69-0187b37a886f",
        "colab": {
          "base_uri": "https://localhost:8080/"
        }
      },
      "execution_count": null,
      "outputs": [
        {
          "output_type": "execute_result",
          "data": {
            "text/plain": [
              "tensor([[  0, 424],\n",
              "        [  2,   3],\n",
              "        [  4,   5],\n",
              "        [  6,   7],\n",
              "        [  8,   9]])"
            ]
          },
          "metadata": {},
          "execution_count": 20
        }
      ]
    },
    {
      "cell_type": "code",
      "source": [
        "tensor_9 = tensor_8[:,1]\n",
        "tensor_9"
      ],
      "metadata": {
        "id": "I4-y0BqvaLjM",
        "outputId": "38e92163-53e8-47a9-ccbc-97d872a7675c",
        "colab": {
          "base_uri": "https://localhost:8080/"
        }
      },
      "execution_count": null,
      "outputs": [
        {
          "output_type": "execute_result",
          "data": {
            "text/plain": [
              "tensor([424,   3,   5,   7,   9])"
            ]
          },
          "metadata": {},
          "execution_count": 21
        }
      ]
    },
    {
      "cell_type": "code",
      "source": [
        "tensor_9 = tensor_8[:,1:]\n",
        "tensor_9"
      ],
      "metadata": {
        "id": "08MqyoDsaiWb",
        "colab": {
          "base_uri": "https://localhost:8080/"
        },
        "outputId": "27d84837-6145-4b81-9877-da9d946a7449"
      },
      "execution_count": null,
      "outputs": [
        {
          "output_type": "execute_result",
          "data": {
            "text/plain": [
              "tensor([[424],\n",
              "        [  3],\n",
              "        [  5],\n",
              "        [  7],\n",
              "        [  9]])"
            ]
          },
          "metadata": {},
          "execution_count": 22
        }
      ]
    },
    {
      "cell_type": "markdown",
      "source": [
        "## **Tensor operations**\n"
      ],
      "metadata": {
        "id": "dE2QSAQnb5F0"
      }
    },
    {
      "cell_type": "code",
      "source": [
        "# tensor addition\n",
        "tensor_a = torch.tensor([1,2,3,4])\n",
        "tensor_b = torch.tensor([5,6,7,8])\n",
        "tensor_a + tensor_b"
      ],
      "metadata": {
        "id": "TJvUlXHzb_-h",
        "outputId": "edf3c320-d681-4680-ee36-6476d781da8c",
        "colab": {
          "base_uri": "https://localhost:8080/"
        }
      },
      "execution_count": null,
      "outputs": [
        {
          "output_type": "execute_result",
          "data": {
            "text/plain": [
              "tensor([ 6,  8, 10, 12])"
            ]
          },
          "metadata": {},
          "execution_count": 23
        }
      ]
    },
    {
      "cell_type": "code",
      "source": [
        "torch.add(tensor_a,tensor_b)"
      ],
      "metadata": {
        "id": "Zj4VcoGKcSz0",
        "outputId": "4f423432-4f93-4ac6-f126-f79e683100c8",
        "colab": {
          "base_uri": "https://localhost:8080/"
        }
      },
      "execution_count": null,
      "outputs": [
        {
          "output_type": "execute_result",
          "data": {
            "text/plain": [
              "tensor([ 6,  8, 10, 12])"
            ]
          },
          "metadata": {},
          "execution_count": 24
        }
      ]
    },
    {
      "cell_type": "code",
      "source": [
        "# tensor substraction\n",
        "tensor_b - tensor_a\n",
        "torch.subtract(tensor_b, tensor_a)"
      ],
      "metadata": {
        "id": "3sybHW27ctCU",
        "outputId": "8d3eab05-efd8-49bb-b3ae-9d67224a4b0a",
        "colab": {
          "base_uri": "https://localhost:8080/"
        }
      },
      "execution_count": null,
      "outputs": [
        {
          "output_type": "execute_result",
          "data": {
            "text/plain": [
              "tensor([4, 4, 4, 4])"
            ]
          },
          "metadata": {},
          "execution_count": 25
        }
      ]
    },
    {
      "cell_type": "code",
      "source": [
        "# tensor multiplication\n",
        "tensor_a * tensor_b"
      ],
      "metadata": {
        "id": "eVrwA0oYdI0t",
        "outputId": "4a2ee166-26f3-4af1-9a7c-938455cd4b64",
        "colab": {
          "base_uri": "https://localhost:8080/"
        }
      },
      "execution_count": null,
      "outputs": [
        {
          "output_type": "execute_result",
          "data": {
            "text/plain": [
              "tensor([ 5, 12, 21, 32])"
            ]
          },
          "metadata": {},
          "execution_count": 26
        }
      ]
    },
    {
      "cell_type": "code",
      "source": [
        "torch.multiply(tensor_a, tensor_b)"
      ],
      "metadata": {
        "id": "iFcYS8SPdksk",
        "outputId": "5ac0bb9b-5b71-4db5-9d89-ca6700358c64",
        "colab": {
          "base_uri": "https://localhost:8080/"
        }
      },
      "execution_count": null,
      "outputs": [
        {
          "output_type": "execute_result",
          "data": {
            "text/plain": [
              "tensor([ 5, 12, 21, 32])"
            ]
          },
          "metadata": {},
          "execution_count": 27
        }
      ]
    },
    {
      "cell_type": "code",
      "source": [
        "# tensor division\n",
        "tensor_a / tensor_b"
      ],
      "metadata": {
        "id": "BZpVfWU-dqxK",
        "outputId": "375b1d8b-509d-4766-af76-4c7eed408672",
        "colab": {
          "base_uri": "https://localhost:8080/"
        }
      },
      "execution_count": null,
      "outputs": [
        {
          "output_type": "execute_result",
          "data": {
            "text/plain": [
              "tensor([0.2000, 0.3333, 0.4286, 0.5000])"
            ]
          },
          "metadata": {},
          "execution_count": 28
        }
      ]
    },
    {
      "cell_type": "code",
      "source": [
        "torch.div(tensor_a, tensor_b)"
      ],
      "metadata": {
        "id": "t12qxJAueBDM",
        "outputId": "e9bbfd51-6e21-468c-dcdb-71889c1365a1",
        "colab": {
          "base_uri": "https://localhost:8080/"
        }
      },
      "execution_count": null,
      "outputs": [
        {
          "output_type": "execute_result",
          "data": {
            "text/plain": [
              "tensor([0.2000, 0.3333, 0.4286, 0.5000])"
            ]
          },
          "metadata": {},
          "execution_count": 29
        }
      ]
    },
    {
      "cell_type": "code",
      "source": [
        "# tensor reminder\n",
        "tensor_b % tensor_a"
      ],
      "metadata": {
        "id": "55FAPzwIeGmr",
        "outputId": "f783d8ef-04df-41d2-b8d9-18b27ed842dd",
        "colab": {
          "base_uri": "https://localhost:8080/"
        }
      },
      "execution_count": null,
      "outputs": [
        {
          "output_type": "execute_result",
          "data": {
            "text/plain": [
              "tensor([0, 0, 1, 0])"
            ]
          },
          "metadata": {},
          "execution_count": 30
        }
      ]
    },
    {
      "cell_type": "code",
      "source": [
        "torch.remainder(tensor_b, tensor_a)"
      ],
      "metadata": {
        "id": "BCtWH5i9eRyD",
        "outputId": "0b67968f-4d2d-42ea-c3ca-3be35f562fca",
        "colab": {
          "base_uri": "https://localhost:8080/"
        }
      },
      "execution_count": null,
      "outputs": [
        {
          "output_type": "execute_result",
          "data": {
            "text/plain": [
              "tensor([0, 0, 1, 0])"
            ]
          },
          "metadata": {},
          "execution_count": 31
        }
      ]
    },
    {
      "cell_type": "code",
      "source": [
        "# tensor exponents to the power of\n",
        "torch.pow(tensor_b, tensor_a)"
      ],
      "metadata": {
        "id": "7oLt6lSueYQk",
        "outputId": "66ae122a-1732-470a-d079-6f93dcc00f39",
        "colab": {
          "base_uri": "https://localhost:8080/"
        }
      },
      "execution_count": null,
      "outputs": [
        {
          "output_type": "execute_result",
          "data": {
            "text/plain": [
              "tensor([   5,   36,  343, 4096])"
            ]
          },
          "metadata": {},
          "execution_count": 32
        }
      ]
    },
    {
      "cell_type": "code",
      "source": [
        "# Another way to write a long hand expression\n",
        "tensor_a.add(tensor_b)"
      ],
      "metadata": {
        "id": "mvkC4hCue6OU",
        "outputId": "e4ae0745-62b2-4328-c08f-ee8f65ba85bc",
        "colab": {
          "base_uri": "https://localhost:8080/"
        }
      },
      "execution_count": null,
      "outputs": [
        {
          "output_type": "execute_result",
          "data": {
            "text/plain": [
              "tensor([ 6,  8, 10, 12])"
            ]
          },
          "metadata": {},
          "execution_count": 33
        }
      ]
    },
    {
      "cell_type": "code",
      "source": [
        "# tensor reassignment\n",
        "tensor_a.add_(tensor_b)\n",
        "tensor_a"
      ],
      "metadata": {
        "id": "3ToLjf2jfgs0",
        "outputId": "1d90a4f5-03ed-4a0f-be53-02bad174821b",
        "colab": {
          "base_uri": "https://localhost:8080/"
        }
      },
      "execution_count": null,
      "outputs": [
        {
          "output_type": "execute_result",
          "data": {
            "text/plain": [
              "tensor([ 6,  8, 10, 12])"
            ]
          },
          "metadata": {},
          "execution_count": 34
        }
      ]
    },
    {
      "cell_type": "code",
      "source": [
        "# 张量的数据类型， 整形默认为int64位\n",
        "p1 = torch.tensor([1,2,3])\n",
        "print(p1, p1.type())"
      ],
      "metadata": {
        "id": "rGViF5ZCgEBD",
        "colab": {
          "base_uri": "https://localhost:8080/"
        },
        "outputId": "fe60d72f-0df3-4d54-dc13-06f1f772fd5c"
      },
      "execution_count": null,
      "outputs": [
        {
          "output_type": "stream",
          "name": "stdout",
          "text": [
            "tensor([1, 2, 3]) torch.LongTensor\n"
          ]
        }
      ]
    },
    {
      "cell_type": "code",
      "source": [
        "# 张量的数据类型 ， 默认为32位\n",
        "p2 = torch.tensor([1.2,2.5,3.9])\n",
        "print(p2, p2.type())"
      ],
      "metadata": {
        "id": "qtOd-Oxv4m4o",
        "outputId": "a4dd3b8f-1b24-4c26-9ef5-e71d0ee306b3",
        "colab": {
          "base_uri": "https://localhost:8080/"
        }
      },
      "execution_count": null,
      "outputs": [
        {
          "output_type": "stream",
          "name": "stdout",
          "text": [
            "tensor([1.2000, 2.5000, 3.9000]) torch.FloatTensor\n"
          ]
        }
      ]
    },
    {
      "cell_type": "code",
      "source": [
        "# 张量的数据类型\n",
        "p3 = torch.tensor([True,False])\n",
        "print(p3, p3.type())"
      ],
      "metadata": {
        "id": "gFQujg3U5CRJ",
        "outputId": "680d9eee-8320-495d-82af-482fa09018af",
        "colab": {
          "base_uri": "https://localhost:8080/"
        }
      },
      "execution_count": null,
      "outputs": [
        {
          "output_type": "stream",
          "name": "stdout",
          "text": [
            "tensor([ True, False]) torch.BoolTensor\n"
          ]
        }
      ]
    },
    {
      "cell_type": "code",
      "source": [
        "# 数据类型指定\n",
        "p4 = torch.tensor([1,2,3], dtype=torch.float32)\n",
        "print(p4,p4.type())"
      ],
      "metadata": {
        "id": "WQohmJ8n5alN",
        "outputId": "f7834412-1549-4a22-cdec-ee45724887a3",
        "colab": {
          "base_uri": "https://localhost:8080/"
        }
      },
      "execution_count": null,
      "outputs": [
        {
          "output_type": "stream",
          "name": "stdout",
          "text": [
            "tensor([1., 2., 3.]) torch.FloatTensor\n"
          ]
        }
      ]
    },
    {
      "cell_type": "code",
      "source": [
        "# 数据类型转换\n",
        "p5 = torch.tensor([1,2,3])\n",
        "p6 = p5.type(torch.float32)\n",
        "print(p6,p6.type())"
      ],
      "metadata": {
        "id": "9PeytTHG6ISj",
        "outputId": "eea49cf8-5dc8-4e37-ec50-6a6c4eca835c",
        "colab": {
          "base_uri": "https://localhost:8080/"
        }
      },
      "execution_count": null,
      "outputs": [
        {
          "output_type": "stream",
          "name": "stdout",
          "text": [
            "tensor([1., 2., 3.]) torch.FloatTensor\n"
          ]
        }
      ]
    },
    {
      "cell_type": "code",
      "source": [
        "# 张量的升维和降维\n",
        "t = torch.arange(8)\n",
        "print(t,t.dim(),t.shape, sep='\\n')\n",
        "t1 = t.unsqueeze(dim=0)\n",
        "print(t,t1,t1.dim(),t1.shape,sep='\\n')"
      ],
      "metadata": {
        "id": "PWIAAWEI8EX2",
        "outputId": "b2801d6c-ccf8-4945-88b6-740b83e84978",
        "colab": {
          "base_uri": "https://localhost:8080/"
        }
      },
      "execution_count": null,
      "outputs": [
        {
          "output_type": "stream",
          "name": "stdout",
          "text": [
            "tensor([0, 1, 2, 3, 4, 5, 6, 7])\n",
            "1\n",
            "torch.Size([8])\n",
            "tensor([0, 1, 2, 3, 4, 5, 6, 7])\n",
            "tensor([[0, 1, 2, 3, 4, 5, 6, 7]])\n",
            "2\n",
            "torch.Size([1, 8])\n"
          ]
        }
      ]
    },
    {
      "cell_type": "code",
      "source": [
        "tensor2numpy = t.numpy()\n",
        "print(tensor2numpy,tensor2numpy.dtype)"
      ],
      "metadata": {
        "id": "cFq_cWZHC-Tp",
        "outputId": "173aa729-e113-4c03-bd64-7274a7f4c43b",
        "colab": {
          "base_uri": "https://localhost:8080/"
        }
      },
      "execution_count": null,
      "outputs": [
        {
          "output_type": "stream",
          "name": "stdout",
          "text": [
            "[0 1 2 3 4 5 6 7] int64\n"
          ]
        }
      ]
    },
    {
      "cell_type": "code",
      "source": [
        "tensorfromnumpy = torch.as_tensor(tensor2numpy)\n",
        "print(tensorfromnumpy)"
      ],
      "metadata": {
        "id": "s-ZNC6gI1T1O",
        "outputId": "4fdb8c85-6652-4fe7-a152-4c4f66462ff2",
        "colab": {
          "base_uri": "https://localhost:8080/"
        }
      },
      "execution_count": null,
      "outputs": [
        {
          "output_type": "stream",
          "name": "stdout",
          "text": [
            "tensor([0, 1, 2, 3, 4, 5, 6, 7])\n"
          ]
        }
      ]
    },
    {
      "cell_type": "code",
      "source": [],
      "metadata": {
        "id": "AK03v0dB1kPg"
      },
      "execution_count": null,
      "outputs": []
    }
  ]
}